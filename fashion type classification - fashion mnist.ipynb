{
 "cells": [
  {
   "cell_type": "code",
   "execution_count": 1,
   "id": "48f61c07",
   "metadata": {},
   "outputs": [],
   "source": [
    "import pandas as pd\n",
    "import numpy as np\n",
    "from matplotlib import pyplot as plt\n",
    "import seaborn as sns"
   ]
  },
  {
   "cell_type": "code",
   "execution_count": 2,
   "id": "6a573390",
   "metadata": {},
   "outputs": [
    {
     "data": {
      "text/html": [
       "<div>\n",
       "<style scoped>\n",
       "    .dataframe tbody tr th:only-of-type {\n",
       "        vertical-align: middle;\n",
       "    }\n",
       "\n",
       "    .dataframe tbody tr th {\n",
       "        vertical-align: top;\n",
       "    }\n",
       "\n",
       "    .dataframe thead th {\n",
       "        text-align: right;\n",
       "    }\n",
       "</style>\n",
       "<table border=\"1\" class=\"dataframe\">\n",
       "  <thead>\n",
       "    <tr style=\"text-align: right;\">\n",
       "      <th></th>\n",
       "      <th>label</th>\n",
       "      <th>pixel1</th>\n",
       "      <th>pixel2</th>\n",
       "      <th>pixel3</th>\n",
       "      <th>pixel4</th>\n",
       "      <th>pixel5</th>\n",
       "      <th>pixel6</th>\n",
       "      <th>pixel7</th>\n",
       "      <th>pixel8</th>\n",
       "      <th>pixel9</th>\n",
       "      <th>...</th>\n",
       "      <th>pixel775</th>\n",
       "      <th>pixel776</th>\n",
       "      <th>pixel777</th>\n",
       "      <th>pixel778</th>\n",
       "      <th>pixel779</th>\n",
       "      <th>pixel780</th>\n",
       "      <th>pixel781</th>\n",
       "      <th>pixel782</th>\n",
       "      <th>pixel783</th>\n",
       "      <th>pixel784</th>\n",
       "    </tr>\n",
       "  </thead>\n",
       "  <tbody>\n",
       "    <tr>\n",
       "      <th>0</th>\n",
       "      <td>2</td>\n",
       "      <td>0</td>\n",
       "      <td>0</td>\n",
       "      <td>0</td>\n",
       "      <td>0</td>\n",
       "      <td>0</td>\n",
       "      <td>0</td>\n",
       "      <td>0</td>\n",
       "      <td>0</td>\n",
       "      <td>0</td>\n",
       "      <td>...</td>\n",
       "      <td>0</td>\n",
       "      <td>0</td>\n",
       "      <td>0</td>\n",
       "      <td>0</td>\n",
       "      <td>0</td>\n",
       "      <td>0</td>\n",
       "      <td>0</td>\n",
       "      <td>0</td>\n",
       "      <td>0</td>\n",
       "      <td>0</td>\n",
       "    </tr>\n",
       "    <tr>\n",
       "      <th>1</th>\n",
       "      <td>9</td>\n",
       "      <td>0</td>\n",
       "      <td>0</td>\n",
       "      <td>0</td>\n",
       "      <td>0</td>\n",
       "      <td>0</td>\n",
       "      <td>0</td>\n",
       "      <td>0</td>\n",
       "      <td>0</td>\n",
       "      <td>0</td>\n",
       "      <td>...</td>\n",
       "      <td>0</td>\n",
       "      <td>0</td>\n",
       "      <td>0</td>\n",
       "      <td>0</td>\n",
       "      <td>0</td>\n",
       "      <td>0</td>\n",
       "      <td>0</td>\n",
       "      <td>0</td>\n",
       "      <td>0</td>\n",
       "      <td>0</td>\n",
       "    </tr>\n",
       "    <tr>\n",
       "      <th>2</th>\n",
       "      <td>6</td>\n",
       "      <td>0</td>\n",
       "      <td>0</td>\n",
       "      <td>0</td>\n",
       "      <td>0</td>\n",
       "      <td>0</td>\n",
       "      <td>0</td>\n",
       "      <td>0</td>\n",
       "      <td>5</td>\n",
       "      <td>0</td>\n",
       "      <td>...</td>\n",
       "      <td>0</td>\n",
       "      <td>0</td>\n",
       "      <td>0</td>\n",
       "      <td>30</td>\n",
       "      <td>43</td>\n",
       "      <td>0</td>\n",
       "      <td>0</td>\n",
       "      <td>0</td>\n",
       "      <td>0</td>\n",
       "      <td>0</td>\n",
       "    </tr>\n",
       "    <tr>\n",
       "      <th>3</th>\n",
       "      <td>0</td>\n",
       "      <td>0</td>\n",
       "      <td>0</td>\n",
       "      <td>0</td>\n",
       "      <td>1</td>\n",
       "      <td>2</td>\n",
       "      <td>0</td>\n",
       "      <td>0</td>\n",
       "      <td>0</td>\n",
       "      <td>0</td>\n",
       "      <td>...</td>\n",
       "      <td>3</td>\n",
       "      <td>0</td>\n",
       "      <td>0</td>\n",
       "      <td>0</td>\n",
       "      <td>0</td>\n",
       "      <td>1</td>\n",
       "      <td>0</td>\n",
       "      <td>0</td>\n",
       "      <td>0</td>\n",
       "      <td>0</td>\n",
       "    </tr>\n",
       "    <tr>\n",
       "      <th>4</th>\n",
       "      <td>3</td>\n",
       "      <td>0</td>\n",
       "      <td>0</td>\n",
       "      <td>0</td>\n",
       "      <td>0</td>\n",
       "      <td>0</td>\n",
       "      <td>0</td>\n",
       "      <td>0</td>\n",
       "      <td>0</td>\n",
       "      <td>0</td>\n",
       "      <td>...</td>\n",
       "      <td>0</td>\n",
       "      <td>0</td>\n",
       "      <td>0</td>\n",
       "      <td>0</td>\n",
       "      <td>0</td>\n",
       "      <td>0</td>\n",
       "      <td>0</td>\n",
       "      <td>0</td>\n",
       "      <td>0</td>\n",
       "      <td>0</td>\n",
       "    </tr>\n",
       "  </tbody>\n",
       "</table>\n",
       "<p>5 rows × 785 columns</p>\n",
       "</div>"
      ],
      "text/plain": [
       "   label  pixel1  pixel2  pixel3  pixel4  pixel5  pixel6  pixel7  pixel8  \\\n",
       "0      2       0       0       0       0       0       0       0       0   \n",
       "1      9       0       0       0       0       0       0       0       0   \n",
       "2      6       0       0       0       0       0       0       0       5   \n",
       "3      0       0       0       0       1       2       0       0       0   \n",
       "4      3       0       0       0       0       0       0       0       0   \n",
       "\n",
       "   pixel9  ...  pixel775  pixel776  pixel777  pixel778  pixel779  pixel780  \\\n",
       "0       0  ...         0         0         0         0         0         0   \n",
       "1       0  ...         0         0         0         0         0         0   \n",
       "2       0  ...         0         0         0        30        43         0   \n",
       "3       0  ...         3         0         0         0         0         1   \n",
       "4       0  ...         0         0         0         0         0         0   \n",
       "\n",
       "   pixel781  pixel782  pixel783  pixel784  \n",
       "0         0         0         0         0  \n",
       "1         0         0         0         0  \n",
       "2         0         0         0         0  \n",
       "3         0         0         0         0  \n",
       "4         0         0         0         0  \n",
       "\n",
       "[5 rows x 785 columns]"
      ]
     },
     "execution_count": 2,
     "metadata": {},
     "output_type": "execute_result"
    }
   ],
   "source": [
    "fashion_train=pd.read_csv('fashion-mnist_train.csv')\n",
    "fashion_train.head()"
   ]
  },
  {
   "cell_type": "code",
   "execution_count": 3,
   "id": "0bbd6468",
   "metadata": {},
   "outputs": [
    {
     "data": {
      "text/html": [
       "<div>\n",
       "<style scoped>\n",
       "    .dataframe tbody tr th:only-of-type {\n",
       "        vertical-align: middle;\n",
       "    }\n",
       "\n",
       "    .dataframe tbody tr th {\n",
       "        vertical-align: top;\n",
       "    }\n",
       "\n",
       "    .dataframe thead th {\n",
       "        text-align: right;\n",
       "    }\n",
       "</style>\n",
       "<table border=\"1\" class=\"dataframe\">\n",
       "  <thead>\n",
       "    <tr style=\"text-align: right;\">\n",
       "      <th></th>\n",
       "      <th>label</th>\n",
       "      <th>pixel1</th>\n",
       "      <th>pixel2</th>\n",
       "      <th>pixel3</th>\n",
       "      <th>pixel4</th>\n",
       "      <th>pixel5</th>\n",
       "      <th>pixel6</th>\n",
       "      <th>pixel7</th>\n",
       "      <th>pixel8</th>\n",
       "      <th>pixel9</th>\n",
       "      <th>...</th>\n",
       "      <th>pixel775</th>\n",
       "      <th>pixel776</th>\n",
       "      <th>pixel777</th>\n",
       "      <th>pixel778</th>\n",
       "      <th>pixel779</th>\n",
       "      <th>pixel780</th>\n",
       "      <th>pixel781</th>\n",
       "      <th>pixel782</th>\n",
       "      <th>pixel783</th>\n",
       "      <th>pixel784</th>\n",
       "    </tr>\n",
       "  </thead>\n",
       "  <tbody>\n",
       "    <tr>\n",
       "      <th>0</th>\n",
       "      <td>0</td>\n",
       "      <td>0</td>\n",
       "      <td>0</td>\n",
       "      <td>0</td>\n",
       "      <td>0</td>\n",
       "      <td>0</td>\n",
       "      <td>0</td>\n",
       "      <td>0</td>\n",
       "      <td>9</td>\n",
       "      <td>8</td>\n",
       "      <td>...</td>\n",
       "      <td>103</td>\n",
       "      <td>87</td>\n",
       "      <td>56</td>\n",
       "      <td>0</td>\n",
       "      <td>0</td>\n",
       "      <td>0</td>\n",
       "      <td>0</td>\n",
       "      <td>0</td>\n",
       "      <td>0</td>\n",
       "      <td>0</td>\n",
       "    </tr>\n",
       "    <tr>\n",
       "      <th>1</th>\n",
       "      <td>1</td>\n",
       "      <td>0</td>\n",
       "      <td>0</td>\n",
       "      <td>0</td>\n",
       "      <td>0</td>\n",
       "      <td>0</td>\n",
       "      <td>0</td>\n",
       "      <td>0</td>\n",
       "      <td>0</td>\n",
       "      <td>0</td>\n",
       "      <td>...</td>\n",
       "      <td>34</td>\n",
       "      <td>0</td>\n",
       "      <td>0</td>\n",
       "      <td>0</td>\n",
       "      <td>0</td>\n",
       "      <td>0</td>\n",
       "      <td>0</td>\n",
       "      <td>0</td>\n",
       "      <td>0</td>\n",
       "      <td>0</td>\n",
       "    </tr>\n",
       "    <tr>\n",
       "      <th>2</th>\n",
       "      <td>2</td>\n",
       "      <td>0</td>\n",
       "      <td>0</td>\n",
       "      <td>0</td>\n",
       "      <td>0</td>\n",
       "      <td>0</td>\n",
       "      <td>0</td>\n",
       "      <td>14</td>\n",
       "      <td>53</td>\n",
       "      <td>99</td>\n",
       "      <td>...</td>\n",
       "      <td>0</td>\n",
       "      <td>0</td>\n",
       "      <td>0</td>\n",
       "      <td>0</td>\n",
       "      <td>63</td>\n",
       "      <td>53</td>\n",
       "      <td>31</td>\n",
       "      <td>0</td>\n",
       "      <td>0</td>\n",
       "      <td>0</td>\n",
       "    </tr>\n",
       "    <tr>\n",
       "      <th>3</th>\n",
       "      <td>2</td>\n",
       "      <td>0</td>\n",
       "      <td>0</td>\n",
       "      <td>0</td>\n",
       "      <td>0</td>\n",
       "      <td>0</td>\n",
       "      <td>0</td>\n",
       "      <td>0</td>\n",
       "      <td>0</td>\n",
       "      <td>0</td>\n",
       "      <td>...</td>\n",
       "      <td>137</td>\n",
       "      <td>126</td>\n",
       "      <td>140</td>\n",
       "      <td>0</td>\n",
       "      <td>133</td>\n",
       "      <td>224</td>\n",
       "      <td>222</td>\n",
       "      <td>56</td>\n",
       "      <td>0</td>\n",
       "      <td>0</td>\n",
       "    </tr>\n",
       "    <tr>\n",
       "      <th>4</th>\n",
       "      <td>3</td>\n",
       "      <td>0</td>\n",
       "      <td>0</td>\n",
       "      <td>0</td>\n",
       "      <td>0</td>\n",
       "      <td>0</td>\n",
       "      <td>0</td>\n",
       "      <td>0</td>\n",
       "      <td>0</td>\n",
       "      <td>0</td>\n",
       "      <td>...</td>\n",
       "      <td>0</td>\n",
       "      <td>0</td>\n",
       "      <td>0</td>\n",
       "      <td>0</td>\n",
       "      <td>0</td>\n",
       "      <td>0</td>\n",
       "      <td>0</td>\n",
       "      <td>0</td>\n",
       "      <td>0</td>\n",
       "      <td>0</td>\n",
       "    </tr>\n",
       "  </tbody>\n",
       "</table>\n",
       "<p>5 rows × 785 columns</p>\n",
       "</div>"
      ],
      "text/plain": [
       "   label  pixel1  pixel2  pixel3  pixel4  pixel5  pixel6  pixel7  pixel8  \\\n",
       "0      0       0       0       0       0       0       0       0       9   \n",
       "1      1       0       0       0       0       0       0       0       0   \n",
       "2      2       0       0       0       0       0       0      14      53   \n",
       "3      2       0       0       0       0       0       0       0       0   \n",
       "4      3       0       0       0       0       0       0       0       0   \n",
       "\n",
       "   pixel9  ...  pixel775  pixel776  pixel777  pixel778  pixel779  pixel780  \\\n",
       "0       8  ...       103        87        56         0         0         0   \n",
       "1       0  ...        34         0         0         0         0         0   \n",
       "2      99  ...         0         0         0         0        63        53   \n",
       "3       0  ...       137       126       140         0       133       224   \n",
       "4       0  ...         0         0         0         0         0         0   \n",
       "\n",
       "   pixel781  pixel782  pixel783  pixel784  \n",
       "0         0         0         0         0  \n",
       "1         0         0         0         0  \n",
       "2        31         0         0         0  \n",
       "3       222        56         0         0  \n",
       "4         0         0         0         0  \n",
       "\n",
       "[5 rows x 785 columns]"
      ]
     },
     "execution_count": 3,
     "metadata": {},
     "output_type": "execute_result"
    }
   ],
   "source": [
    "fashion_test=pd.read_csv('fashion-mnist_test.csv')\n",
    "fashion_test.head()"
   ]
  },
  {
   "cell_type": "code",
   "execution_count": 4,
   "id": "4a93545d",
   "metadata": {},
   "outputs": [
    {
     "data": {
      "text/plain": [
       "(60000, 785)"
      ]
     },
     "execution_count": 4,
     "metadata": {},
     "output_type": "execute_result"
    }
   ],
   "source": [
    "fashion_train.shape"
   ]
  },
  {
   "cell_type": "code",
   "execution_count": 5,
   "id": "d872c0da",
   "metadata": {},
   "outputs": [
    {
     "data": {
      "text/plain": [
       "(10000, 785)"
      ]
     },
     "execution_count": 5,
     "metadata": {},
     "output_type": "execute_result"
    }
   ],
   "source": [
    "fashion_test.shape"
   ]
  },
  {
   "cell_type": "code",
   "execution_count": 6,
   "id": "7e437b41",
   "metadata": {},
   "outputs": [
    {
     "data": {
      "text/plain": [
       "array([[2., 0., 0., ..., 0., 0., 0.],\n",
       "       [9., 0., 0., ..., 0., 0., 0.],\n",
       "       [6., 0., 0., ..., 0., 0., 0.],\n",
       "       ...,\n",
       "       [8., 0., 0., ..., 0., 0., 0.],\n",
       "       [8., 0., 0., ..., 0., 0., 0.],\n",
       "       [7., 0., 0., ..., 0., 0., 0.]], dtype=float32)"
      ]
     },
     "execution_count": 6,
     "metadata": {},
     "output_type": "execute_result"
    }
   ],
   "source": [
    "training=np.array(fashion_train,dtype='float32')\n",
    "training"
   ]
  },
  {
   "cell_type": "code",
   "execution_count": 7,
   "id": "111e6702",
   "metadata": {},
   "outputs": [
    {
     "data": {
      "text/plain": [
       "array([[0., 0., 0., ..., 0., 0., 0.],\n",
       "       [1., 0., 0., ..., 0., 0., 0.],\n",
       "       [2., 0., 0., ..., 0., 0., 0.],\n",
       "       ...,\n",
       "       [8., 0., 0., ..., 0., 1., 0.],\n",
       "       [8., 0., 1., ..., 0., 0., 0.],\n",
       "       [1., 0., 0., ..., 0., 0., 0.]], dtype=float32)"
      ]
     },
     "execution_count": 7,
     "metadata": {},
     "output_type": "execute_result"
    }
   ],
   "source": [
    "testing=np.array(fashion_test,dtype='float32')\n",
    "testing"
   ]
  },
  {
   "cell_type": "code",
   "execution_count": 8,
   "id": "5484ef9c",
   "metadata": {},
   "outputs": [
    {
     "data": {
      "text/plain": [
       "array([  2.,   0.,   0.,   0.,   0.,   0.,   0.,   0.,   0.,   0.,   0.,\n",
       "         0.,   0.,   0.,   0.,   0.,   0.,   0.,   0.,   0.,   0.,   0.,\n",
       "         0.,   0.,   0.,   0.,   0.,   0.,   0.,   0.,   0.,   0.,   0.,\n",
       "         0.,   0.,   0.,   0.,   0.,   0.,   0.,   0.,   0.,   0.,   0.,\n",
       "         0.,   0.,   0.,   0.,   0.,   0.,   0.,   0.,   0.,   0.,   0.,\n",
       "         0.,   0.,   0.,   0.,   0.,   0.,   0.,   0.,   0.,   0.,   0.,\n",
       "         0.,   0.,   0.,   0.,   0.,   0.,   0.,   0.,   0.,   0.,   0.,\n",
       "         0.,   0.,   0.,   0.,   0.,   0.,   0.,   0.,   0.,   0.,   0.,\n",
       "         0.,   4.,   0.,   0.,   0.,   0.,   0.,  62.,  61.,  21.,  29.,\n",
       "        23.,  51., 136.,  61.,   0.,   0.,   0.,   0.,   0.,   0.,   0.,\n",
       "         0.,   0.,   0.,   0.,   0.,   0.,   0.,   0.,   0.,   0.,  88.,\n",
       "       201., 228., 225., 255., 115.,  62., 137., 255., 235., 222., 255.,\n",
       "       135.,   0.,   0.,   0.,   0.,   0.,   0.,   0.,   0.,   0.,   0.,\n",
       "         0.,   0.,   0.,  47., 252., 234., 238., 224., 215., 215., 229.,\n",
       "       108., 180., 207., 214., 224., 231., 249., 254.,  45.,   0.,   0.,\n",
       "         0.,   0.,   0.,   0.,   0.,   0.,   1.,   0.,   0., 214., 222.,\n",
       "       210., 213., 224., 225., 217., 220., 254., 233., 219., 221., 217.,\n",
       "       223., 221., 240., 254.,   0.,   0.,   1.,   0.,   0.,   0.,   1.,\n",
       "         0.,   0.,   0., 128., 237., 207., 224., 224., 207., 216., 214.,\n",
       "       210., 208., 211., 221., 208., 219., 213., 226., 211., 237., 150.,\n",
       "         0.,   0.,   0.,   0.,   0.,   0.,   2.,   0.,   0., 237., 222.,\n",
       "       215., 207., 210., 212., 213., 206., 214., 213., 214., 213., 210.,\n",
       "       215., 214., 206., 199., 218., 255.,  13.,   0.,   2.,   0.,   0.,\n",
       "         0.,   4.,   0.,  85., 228., 210., 218., 200., 211., 208., 203.,\n",
       "       215., 210., 209., 209., 210., 213., 211., 210., 217., 206., 213.,\n",
       "       231., 175.,   0.,   0.,   0.,   0.,   0.,   0.,   0., 217., 224.,\n",
       "       215., 206., 205., 204., 217., 230., 222., 215., 224., 233., 228.,\n",
       "       232., 228., 224., 207., 212., 215., 213., 229.,  31.,   0.,   4.,\n",
       "         0.,   1.,   0.,  21., 225., 212., 212., 203., 211., 225., 193.,\n",
       "       139., 136., 195., 147., 156., 139., 128., 162., 197., 223., 207.,\n",
       "       220., 213., 232., 177.,   0.,   0.,   0.,   0.,   0., 123., 226.,\n",
       "       207., 211., 209., 205., 228., 158.,  90., 103., 186., 138., 100.,\n",
       "       121., 147., 158., 183., 226., 208., 214., 209., 216., 255.,  13.,\n",
       "         0.,   1.,   0.,   0., 226., 219., 202., 208., 206., 205., 216.,\n",
       "       184., 156., 150., 193., 170., 164., 168., 188., 186., 200., 219.,\n",
       "       216., 213., 213., 211., 233., 148.,   0.,   0.,   0.,  45., 227.,\n",
       "       204., 214., 211., 218., 222., 221., 230., 229., 221., 213., 224.,\n",
       "       233., 226., 220., 219., 221., 224., 223., 217., 210., 218., 213.,\n",
       "       254.,   0.,   0.,   0., 157., 226., 203., 207., 211., 209., 215.,\n",
       "       205., 198., 207., 208., 201., 201., 197., 203., 205., 210., 207.,\n",
       "       213., 214., 214., 214., 213., 208., 234., 107.,   0.,   0., 235.,\n",
       "       213., 204., 211., 210., 209., 213., 202., 197., 204., 215., 217.,\n",
       "       213., 212., 210., 206., 212., 203., 211., 218., 215., 214., 208.,\n",
       "       209., 222., 230.,   0.,  52., 255., 207., 200., 208., 213., 210.,\n",
       "       210., 208., 207., 202., 201., 209., 216., 216., 216., 216., 214.,\n",
       "       212., 205., 215., 201., 228., 208., 214., 212., 218.,  25., 118.,\n",
       "       217., 201., 206., 208., 213., 208., 205., 206., 210., 211., 202.,\n",
       "       199., 207., 208., 209., 210., 207., 210., 210., 245., 139., 119.,\n",
       "       255., 202., 203., 236., 114., 171., 238., 212., 203., 220., 216.,\n",
       "       217., 209., 207., 205., 210., 211., 206., 204., 206., 209., 211.,\n",
       "       215., 210., 206., 221., 242.,   0., 224., 234., 230., 181.,  26.,\n",
       "        39., 145., 201., 255., 157., 115., 250., 200., 207., 206., 207.,\n",
       "       213., 216., 206., 205., 206., 207., 206., 215., 207., 221., 238.,\n",
       "         0.,   0., 188.,  85.,   0.,   0.,   0.,   0.,   0.,  31.,   0.,\n",
       "       129., 253., 190., 207., 208., 208., 208., 209., 211., 211., 209.,\n",
       "       209., 209., 212., 201., 226., 165.,   0.,   0.,   0.,   0.,   0.,\n",
       "         0.,   2.,   0.,   0.,   0.,   0.,  89., 254., 199., 199., 192.,\n",
       "       196., 198., 199., 201., 202., 203., 204., 203., 203., 200., 222.,\n",
       "       155.,   0.,   3.,   3.,   3.,   2.,   0.,   0.,   0.,   1.,   5.,\n",
       "         0.,   0., 255., 218., 226., 232., 228., 224., 222., 220., 219.,\n",
       "       219., 217., 221., 220., 212., 236.,  95.,   0.,   2.,   0.,   0.,\n",
       "         0.,   0.,   0.,   0.,   0.,   0.,   0.,   0., 155., 194., 168.,\n",
       "       170., 171., 173., 173., 179., 177., 175., 172., 171., 167., 161.,\n",
       "       180.,   0.,   0.,   1.,   0.,   1.,   0.,   0.,   0.,   0.,   0.,\n",
       "         0.,   0.,   0.,   0.,   0.,   0.,   0.,   0.,   0.,   0.,   0.,\n",
       "         0.,   0.,   0.,   0.,   0.,   0.,   0.,   0.,   0.,   0.,   0.,\n",
       "         0.,   0.,   0.,   0.,   0.,   0.,   0.,   0.,   0.,   0.,   0.,\n",
       "         0.,   0.,   0.,   0.,   0.,   0.,   0.,   0.,   0.,   0.,   0.,\n",
       "         0.,   0.,   0.,   0.,   0.,   0.,   0.,   0.,   0.,   0.,   0.,\n",
       "         0.,   0.,   0.,   0.,   0.,   0.,   0.,   0.,   0.,   0.,   0.,\n",
       "         0.,   0.,   0.,   0.,   0.,   0.,   0.,   0.,   0.,   0.,   0.,\n",
       "         0.,   0.,   0.,   0.], dtype=float32)"
      ]
     },
     "execution_count": 8,
     "metadata": {},
     "output_type": "execute_result"
    }
   ],
   "source": [
    "training[0]"
   ]
  },
  {
   "cell_type": "code",
   "execution_count": 9,
   "id": "aaead080",
   "metadata": {},
   "outputs": [
    {
     "data": {
      "text/plain": [
       "array([  0.,   0.,   0.,   0.,   0.,   0.,   0.,   0.,   0.,   0.,   0.,\n",
       "         0.,   0.,   0.,   0.,   0.,   0.,   0.,   0.,   0.,   0.,   0.,\n",
       "         0.,   0.,   0.,   0.,   0.,   0.,   0.,   0.,   0.,   0.,   0.,\n",
       "         0.,   0.,   0.,   0.,   0.,   0.,   0.,   0.,   0.,   0.,   0.,\n",
       "         0.,   0.,   0.,   0.,   0.,   0.,   0.,   0.,   0.,   0.,   0.,\n",
       "         0.,   0.,   0.,   0.,   0.,   0.,   0.,   0.,   0.,   0.,   0.,\n",
       "         0.,   0.,   0.,   0.,   0.,   0.,   0.,   0.,   0.,   0.,   0.,\n",
       "         0.,   0.,   0.,   0.,   0.,   0.,   0.,   0.,   0.,   0.,   0.,\n",
       "         4.,   0.,   0.,   0.,   0.,   0.,  62.,  61.,  21.,  29.,  23.,\n",
       "        51., 136.,  61.,   0.,   0.,   0.,   0.,   0.,   0.,   0.,   0.,\n",
       "         0.,   0.,   0.,   0.,   0.,   0.,   0.,   0.,   0.,  88., 201.,\n",
       "       228., 225., 255., 115.,  62., 137., 255., 235., 222., 255., 135.,\n",
       "         0.,   0.,   0.,   0.,   0.,   0.,   0.,   0.,   0.,   0.,   0.,\n",
       "         0.,   0.,  47., 252., 234., 238., 224., 215., 215., 229., 108.,\n",
       "       180., 207., 214., 224., 231., 249., 254.,  45.,   0.,   0.,   0.,\n",
       "         0.,   0.,   0.,   0.,   0.,   1.,   0.,   0., 214., 222., 210.,\n",
       "       213., 224., 225., 217., 220., 254., 233., 219., 221., 217., 223.,\n",
       "       221., 240., 254.,   0.,   0.,   1.,   0.,   0.,   0.,   1.,   0.,\n",
       "         0.,   0., 128., 237., 207., 224., 224., 207., 216., 214., 210.,\n",
       "       208., 211., 221., 208., 219., 213., 226., 211., 237., 150.,   0.,\n",
       "         0.,   0.,   0.,   0.,   0.,   2.,   0.,   0., 237., 222., 215.,\n",
       "       207., 210., 212., 213., 206., 214., 213., 214., 213., 210., 215.,\n",
       "       214., 206., 199., 218., 255.,  13.,   0.,   2.,   0.,   0.,   0.,\n",
       "         4.,   0.,  85., 228., 210., 218., 200., 211., 208., 203., 215.,\n",
       "       210., 209., 209., 210., 213., 211., 210., 217., 206., 213., 231.,\n",
       "       175.,   0.,   0.,   0.,   0.,   0.,   0.,   0., 217., 224., 215.,\n",
       "       206., 205., 204., 217., 230., 222., 215., 224., 233., 228., 232.,\n",
       "       228., 224., 207., 212., 215., 213., 229.,  31.,   0.,   4.,   0.,\n",
       "         1.,   0.,  21., 225., 212., 212., 203., 211., 225., 193., 139.,\n",
       "       136., 195., 147., 156., 139., 128., 162., 197., 223., 207., 220.,\n",
       "       213., 232., 177.,   0.,   0.,   0.,   0.,   0., 123., 226., 207.,\n",
       "       211., 209., 205., 228., 158.,  90., 103., 186., 138., 100., 121.,\n",
       "       147., 158., 183., 226., 208., 214., 209., 216., 255.,  13.,   0.,\n",
       "         1.,   0.,   0., 226., 219., 202., 208., 206., 205., 216., 184.,\n",
       "       156., 150., 193., 170., 164., 168., 188., 186., 200., 219., 216.,\n",
       "       213., 213., 211., 233., 148.,   0.,   0.,   0.,  45., 227., 204.,\n",
       "       214., 211., 218., 222., 221., 230., 229., 221., 213., 224., 233.,\n",
       "       226., 220., 219., 221., 224., 223., 217., 210., 218., 213., 254.,\n",
       "         0.,   0.,   0., 157., 226., 203., 207., 211., 209., 215., 205.,\n",
       "       198., 207., 208., 201., 201., 197., 203., 205., 210., 207., 213.,\n",
       "       214., 214., 214., 213., 208., 234., 107.,   0.,   0., 235., 213.,\n",
       "       204., 211., 210., 209., 213., 202., 197., 204., 215., 217., 213.,\n",
       "       212., 210., 206., 212., 203., 211., 218., 215., 214., 208., 209.,\n",
       "       222., 230.,   0.,  52., 255., 207., 200., 208., 213., 210., 210.,\n",
       "       208., 207., 202., 201., 209., 216., 216., 216., 216., 214., 212.,\n",
       "       205., 215., 201., 228., 208., 214., 212., 218.,  25., 118., 217.,\n",
       "       201., 206., 208., 213., 208., 205., 206., 210., 211., 202., 199.,\n",
       "       207., 208., 209., 210., 207., 210., 210., 245., 139., 119., 255.,\n",
       "       202., 203., 236., 114., 171., 238., 212., 203., 220., 216., 217.,\n",
       "       209., 207., 205., 210., 211., 206., 204., 206., 209., 211., 215.,\n",
       "       210., 206., 221., 242.,   0., 224., 234., 230., 181.,  26.,  39.,\n",
       "       145., 201., 255., 157., 115., 250., 200., 207., 206., 207., 213.,\n",
       "       216., 206., 205., 206., 207., 206., 215., 207., 221., 238.,   0.,\n",
       "         0., 188.,  85.,   0.,   0.,   0.,   0.,   0.,  31.,   0., 129.,\n",
       "       253., 190., 207., 208., 208., 208., 209., 211., 211., 209., 209.,\n",
       "       209., 212., 201., 226., 165.,   0.,   0.,   0.,   0.,   0.,   0.,\n",
       "         2.,   0.,   0.,   0.,   0.,  89., 254., 199., 199., 192., 196.,\n",
       "       198., 199., 201., 202., 203., 204., 203., 203., 200., 222., 155.,\n",
       "         0.,   3.,   3.,   3.,   2.,   0.,   0.,   0.,   1.,   5.,   0.,\n",
       "         0., 255., 218., 226., 232., 228., 224., 222., 220., 219., 219.,\n",
       "       217., 221., 220., 212., 236.,  95.,   0.,   2.,   0.,   0.,   0.,\n",
       "         0.,   0.,   0.,   0.,   0.,   0.,   0., 155., 194., 168., 170.,\n",
       "       171., 173., 173., 179., 177., 175., 172., 171., 167., 161., 180.,\n",
       "         0.,   0.,   1.,   0.,   1.,   0.,   0.,   0.,   0.,   0.,   0.,\n",
       "         0.,   0.,   0.,   0.,   0.,   0.,   0.,   0.,   0.,   0.,   0.,\n",
       "         0.,   0.,   0.,   0.,   0.,   0.,   0.,   0.,   0.,   0.,   0.,\n",
       "         0.,   0.,   0.,   0.,   0.,   0.,   0.,   0.,   0.,   0.,   0.,\n",
       "         0.,   0.,   0.,   0.,   0.,   0.,   0.,   0.,   0.,   0.,   0.,\n",
       "         0.,   0.,   0.,   0.,   0.,   0.,   0.,   0.,   0.,   0.,   0.,\n",
       "         0.,   0.,   0.,   0.,   0.,   0.,   0.,   0.,   0.,   0.,   0.,\n",
       "         0.,   0.,   0.,   0.,   0.,   0.,   0.,   0.,   0.,   0.,   0.,\n",
       "         0.,   0.,   0.], dtype=float32)"
      ]
     },
     "execution_count": 9,
     "metadata": {},
     "output_type": "execute_result"
    }
   ],
   "source": [
    "training[0,1:]"
   ]
  },
  {
   "cell_type": "code",
   "execution_count": 10,
   "id": "be2622a0",
   "metadata": {},
   "outputs": [
    {
     "data": {
      "image/png": "[encoded data removed]",
      "text/plain": [
       "<Figure size 640x480 with 1 Axes>"
      ]
     },
     "metadata": {},
     "output_type": "display_data"
    }
   ],
   "source": [
    "plt.imshow(training[0,1:].reshape(28,28))\n",
    "plt.show()"
   ]
  },
  {
   "cell_type": "code",
   "execution_count": 11,
   "id": "7194d6b6",
   "metadata": {},
   "outputs": [
    {
     "data": {
      "image/png": "[encoded data removed]",
      "text/plain": [
       "<Figure size 640x480 with 1 Axes>"
      ]
     },
     "metadata": {},
     "output_type": "display_data"
    }
   ],
   "source": [
    "plt.imshow(training[1,1:].reshape(28,28))\n",
    "plt.show()"
   ]
  },
  {
   "cell_type": "code",
   "execution_count": 12,
   "id": "52a32f8d",
   "metadata": {},
   "outputs": [
    {
     "data": {
      "text/plain": [
       "57402"
      ]
     },
     "execution_count": 12,
     "metadata": {},
     "output_type": "execute_result"
    }
   ],
   "source": [
    "import random\n",
    "i=random.randint(1,60000)\n",
    "i"
   ]
  },
  {
   "cell_type": "code",
   "execution_count": 13,
   "id": "203a65fb",
   "metadata": {},
   "outputs": [
    {
     "data": {
      "text/plain": [
       "8.0"
      ]
     },
     "execution_count": 13,
     "metadata": {},
     "output_type": "execute_result"
    },
    {
     "data": {
      "image/png": "[encoded data removed]",
      "text/plain": [
       "<Figure size 640x480 with 1 Axes>"
      ]
     },
     "metadata": {},
     "output_type": "display_data"
    }
   ],
   "source": [
    "plt.imshow(training[i,1:].reshape(28,28))\n",
    "training[i,0]"
   ]
  },
  {
   "cell_type": "code",
   "execution_count": 14,
   "id": "b5004dda",
   "metadata": {},
   "outputs": [],
   "source": [
    "#model building"
   ]
  },
  {
   "cell_type": "code",
   "execution_count": 25,
   "id": "ac85e4bb",
   "metadata": {},
   "outputs": [],
   "source": [
    "x_train=training[:,1:]/255\n",
    "y_train=training[:,0]"
   ]
  },
  {
   "cell_type": "code",
   "execution_count": 26,
   "id": "79ded886",
   "metadata": {},
   "outputs": [],
   "source": [
    "x_test = testing[:,1:]/255\n",
    "y_test=testing[:,0]"
   ]
  },
  {
   "cell_type": "code",
   "execution_count": 27,
   "id": "8a960371",
   "metadata": {},
   "outputs": [
    {
     "data": {
      "text/plain": [
       "array([2., 9., 6., ..., 8., 8., 7.], dtype=float32)"
      ]
     },
     "execution_count": 27,
     "metadata": {},
     "output_type": "execute_result"
    }
   ],
   "source": [
    "y_train"
   ]
  },
  {
   "cell_type": "code",
   "execution_count": 28,
   "id": "c8493734",
   "metadata": {},
   "outputs": [
    {
     "data": {
      "text/plain": [
       "array([0., 1., 2., ..., 8., 8., 1.], dtype=float32)"
      ]
     },
     "execution_count": 28,
     "metadata": {},
     "output_type": "execute_result"
    }
   ],
   "source": [
    "y_test"
   ]
  },
  {
   "cell_type": "code",
   "execution_count": 29,
   "id": "3c65b898",
   "metadata": {},
   "outputs": [
    {
     "data": {
      "text/plain": [
       "array([[0., 0., 0., ..., 0., 0., 0.],\n",
       "       [0., 0., 0., ..., 0., 0., 0.],\n",
       "       [0., 0., 0., ..., 0., 0., 0.],\n",
       "       ...,\n",
       "       [0., 0., 0., ..., 0., 0., 0.],\n",
       "       [0., 0., 0., ..., 0., 0., 0.],\n",
       "       [0., 0., 0., ..., 0., 0., 0.]], dtype=float32)"
      ]
     },
     "execution_count": 29,
     "metadata": {},
     "output_type": "execute_result"
    }
   ],
   "source": [
    "x_train"
   ]
  },
  {
   "cell_type": "code",
   "execution_count": 30,
   "id": "f4cec583",
   "metadata": {},
   "outputs": [
    {
     "data": {
      "text/plain": [
       "array([[0.        , 0.        , 0.        , ..., 0.        , 0.        ,\n",
       "        0.        ],\n",
       "       [0.        , 0.        , 0.        , ..., 0.        , 0.        ,\n",
       "        0.        ],\n",
       "       [0.        , 0.        , 0.        , ..., 0.        , 0.        ,\n",
       "        0.        ],\n",
       "       ...,\n",
       "       [0.        , 0.        , 0.        , ..., 0.        , 0.00392157,\n",
       "        0.        ],\n",
       "       [0.        , 0.00392157, 0.01176471, ..., 0.        , 0.        ,\n",
       "        0.        ],\n",
       "       [0.        , 0.        , 0.        , ..., 0.        , 0.        ,\n",
       "        0.        ]], dtype=float32)"
      ]
     },
     "execution_count": 30,
     "metadata": {},
     "output_type": "execute_result"
    }
   ],
   "source": [
    "x_test"
   ]
  },
  {
   "cell_type": "code",
   "execution_count": null,
   "id": "7d86c02d",
   "metadata": {},
   "outputs": [],
   "source": [
    "#splitting the data into train and validate"
   ]
  },
  {
   "cell_type": "code",
   "execution_count": 31,
   "id": "a176f719",
   "metadata": {},
   "outputs": [],
   "source": [
    "from sklearn.model_selection import train_test_split"
   ]
  },
  {
   "cell_type": "code",
   "execution_count": 32,
   "id": "13a3047e",
   "metadata": {},
   "outputs": [],
   "source": [
    "x_train,x_val,y_train,y_val=train_test_split(x_train,y_train,test_size=0.2)"
   ]
  },
  {
   "cell_type": "code",
   "execution_count": 33,
   "id": "bbcc0b05",
   "metadata": {},
   "outputs": [
    {
     "data": {
      "text/plain": [
       "array([[0.        , 0.        , 0.        , ..., 0.        , 0.        ,\n",
       "        0.        ],\n",
       "       [0.        , 0.        , 0.        , ..., 0.3137255 , 0.36078432,\n",
       "        0.        ],\n",
       "       [0.        , 0.        , 0.        , ..., 0.        , 0.        ,\n",
       "        0.        ],\n",
       "       ...,\n",
       "       [0.        , 0.        , 0.        , ..., 0.        , 0.        ,\n",
       "        0.        ],\n",
       "       [0.        , 0.        , 0.        , ..., 0.        , 0.        ,\n",
       "        0.        ],\n",
       "       [0.        , 0.        , 0.        , ..., 0.        , 0.        ,\n",
       "        0.        ]], dtype=float32)"
      ]
     },
     "execution_count": 33,
     "metadata": {},
     "output_type": "execute_result"
    }
   ],
   "source": [
    "x_train"
   ]
  },
  {
   "cell_type": "code",
   "execution_count": 35,
   "id": "9daa349a",
   "metadata": {},
   "outputs": [
    {
     "data": {
      "text/plain": [
       "array([[0., 0., 0., ..., 0., 0., 0.],\n",
       "       [0., 0., 0., ..., 0., 0., 0.],\n",
       "       [0., 0., 0., ..., 0., 0., 0.],\n",
       "       ...,\n",
       "       [0., 0., 0., ..., 0., 0., 0.],\n",
       "       [0., 0., 0., ..., 0., 0., 0.],\n",
       "       [0., 0., 0., ..., 0., 0., 0.]], dtype=float32)"
      ]
     },
     "execution_count": 35,
     "metadata": {},
     "output_type": "execute_result"
    }
   ],
   "source": [
    "x_val"
   ]
  },
  {
   "cell_type": "code",
   "execution_count": 36,
   "id": "4bf18f9a",
   "metadata": {},
   "outputs": [
    {
     "data": {
      "text/plain": [
       "array([9., 9., 5., ..., 9., 9., 4.], dtype=float32)"
      ]
     },
     "execution_count": 36,
     "metadata": {},
     "output_type": "execute_result"
    }
   ],
   "source": [
    "y_train"
   ]
  },
  {
   "cell_type": "code",
   "execution_count": 37,
   "id": "8689801f",
   "metadata": {},
   "outputs": [
    {
     "data": {
      "text/plain": [
       "array([1., 7., 2., ..., 7., 0., 6.], dtype=float32)"
      ]
     },
     "execution_count": 37,
     "metadata": {},
     "output_type": "execute_result"
    }
   ],
   "source": [
    "y_val"
   ]
  },
  {
   "cell_type": "code",
   "execution_count": 44,
   "id": "5e62aede",
   "metadata": {},
   "outputs": [
    {
     "data": {
      "text/plain": [
       "array([[[[0.        ],\n",
       "         [0.        ],\n",
       "         [0.        ],\n",
       "         ...,\n",
       "         [0.        ],\n",
       "         [0.        ],\n",
       "         [0.        ]],\n",
       "\n",
       "        [[0.        ],\n",
       "         [0.        ],\n",
       "         [0.        ],\n",
       "         ...,\n",
       "         [0.        ],\n",
       "         [0.        ],\n",
       "         [0.        ]],\n",
       "\n",
       "        [[0.        ],\n",
       "         [0.        ],\n",
       "         [0.        ],\n",
       "         ...,\n",
       "         [0.        ],\n",
       "         [0.        ],\n",
       "         [0.        ]],\n",
       "\n",
       "        ...,\n",
       "\n",
       "        [[0.        ],\n",
       "         [0.        ],\n",
       "         [0.        ],\n",
       "         ...,\n",
       "         [0.        ],\n",
       "         [0.        ],\n",
       "         [0.        ]],\n",
       "\n",
       "        [[0.        ],\n",
       "         [0.        ],\n",
       "         [0.        ],\n",
       "         ...,\n",
       "         [0.        ],\n",
       "         [0.        ],\n",
       "         [0.        ]],\n",
       "\n",
       "        [[0.        ],\n",
       "         [0.        ],\n",
       "         [0.        ],\n",
       "         ...,\n",
       "         [0.        ],\n",
       "         [0.        ],\n",
       "         [0.        ]]],\n",
       "\n",
       "\n",
       "       [[[0.        ],\n",
       "         [0.        ],\n",
       "         [0.        ],\n",
       "         ...,\n",
       "         [0.        ],\n",
       "         [0.        ],\n",
       "         [0.        ]],\n",
       "\n",
       "        [[0.        ],\n",
       "         [0.        ],\n",
       "         [0.        ],\n",
       "         ...,\n",
       "         [0.7882353 ],\n",
       "         [0.        ],\n",
       "         [0.        ]],\n",
       "\n",
       "        [[0.        ],\n",
       "         [0.        ],\n",
       "         [0.        ],\n",
       "         ...,\n",
       "         [0.7058824 ],\n",
       "         [0.        ],\n",
       "         [0.        ]],\n",
       "\n",
       "        ...,\n",
       "\n",
       "        [[0.44705883],\n",
       "         [0.9019608 ],\n",
       "         [0.8745098 ],\n",
       "         ...,\n",
       "         [0.76862746],\n",
       "         [0.8745098 ],\n",
       "         [0.01960784]],\n",
       "\n",
       "        [[0.15686275],\n",
       "         [0.6156863 ],\n",
       "         [0.8       ],\n",
       "         ...,\n",
       "         [0.84705883],\n",
       "         [1.        ],\n",
       "         [0.07843138]],\n",
       "\n",
       "        [[0.        ],\n",
       "         [0.        ],\n",
       "         [0.        ],\n",
       "         ...,\n",
       "         [0.3137255 ],\n",
       "         [0.36078432],\n",
       "         [0.        ]]],\n",
       "\n",
       "\n",
       "       [[[0.        ],\n",
       "         [0.        ],\n",
       "         [0.        ],\n",
       "         ...,\n",
       "         [0.        ],\n",
       "         [0.        ],\n",
       "         [0.        ]],\n",
       "\n",
       "        [[0.        ],\n",
       "         [0.        ],\n",
       "         [0.        ],\n",
       "         ...,\n",
       "         [0.        ],\n",
       "         [0.        ],\n",
       "         [0.        ]],\n",
       "\n",
       "        [[0.        ],\n",
       "         [0.        ],\n",
       "         [0.        ],\n",
       "         ...,\n",
       "         [0.        ],\n",
       "         [0.        ],\n",
       "         [0.        ]],\n",
       "\n",
       "        ...,\n",
       "\n",
       "        [[0.        ],\n",
       "         [0.        ],\n",
       "         [0.        ],\n",
       "         ...,\n",
       "         [0.        ],\n",
       "         [0.        ],\n",
       "         [0.        ]],\n",
       "\n",
       "        [[0.        ],\n",
       "         [0.        ],\n",
       "         [0.        ],\n",
       "         ...,\n",
       "         [0.        ],\n",
       "         [0.        ],\n",
       "         [0.        ]],\n",
       "\n",
       "        [[0.        ],\n",
       "         [0.        ],\n",
       "         [0.        ],\n",
       "         ...,\n",
       "         [0.        ],\n",
       "         [0.        ],\n",
       "         [0.        ]]],\n",
       "\n",
       "\n",
       "       ...,\n",
       "\n",
       "\n",
       "       [[[0.        ],\n",
       "         [0.        ],\n",
       "         [0.        ],\n",
       "         ...,\n",
       "         [0.        ],\n",
       "         [0.        ],\n",
       "         [0.        ]],\n",
       "\n",
       "        [[0.        ],\n",
       "         [0.        ],\n",
       "         [0.        ],\n",
       "         ...,\n",
       "         [0.        ],\n",
       "         [0.        ],\n",
       "         [0.        ]],\n",
       "\n",
       "        [[0.        ],\n",
       "         [0.        ],\n",
       "         [0.        ],\n",
       "         ...,\n",
       "         [0.        ],\n",
       "         [0.        ],\n",
       "         [0.        ]],\n",
       "\n",
       "        ...,\n",
       "\n",
       "        [[0.        ],\n",
       "         [0.        ],\n",
       "         [0.        ],\n",
       "         ...,\n",
       "         [0.        ],\n",
       "         [0.        ],\n",
       "         [0.        ]],\n",
       "\n",
       "        [[0.        ],\n",
       "         [0.        ],\n",
       "         [0.        ],\n",
       "         ...,\n",
       "         [0.        ],\n",
       "         [0.        ],\n",
       "         [0.        ]],\n",
       "\n",
       "        [[0.        ],\n",
       "         [0.        ],\n",
       "         [0.        ],\n",
       "         ...,\n",
       "         [0.        ],\n",
       "         [0.        ],\n",
       "         [0.        ]]],\n",
       "\n",
       "\n",
       "       [[[0.        ],\n",
       "         [0.        ],\n",
       "         [0.        ],\n",
       "         ...,\n",
       "         [0.        ],\n",
       "         [0.        ],\n",
       "         [0.        ]],\n",
       "\n",
       "        [[0.        ],\n",
       "         [0.        ],\n",
       "         [0.        ],\n",
       "         ...,\n",
       "         [0.        ],\n",
       "         [0.        ],\n",
       "         [0.        ]],\n",
       "\n",
       "        [[0.        ],\n",
       "         [0.        ],\n",
       "         [0.        ],\n",
       "         ...,\n",
       "         [0.        ],\n",
       "         [0.        ],\n",
       "         [0.        ]],\n",
       "\n",
       "        ...,\n",
       "\n",
       "        [[0.        ],\n",
       "         [0.        ],\n",
       "         [0.        ],\n",
       "         ...,\n",
       "         [0.        ],\n",
       "         [0.        ],\n",
       "         [0.        ]],\n",
       "\n",
       "        [[0.        ],\n",
       "         [0.        ],\n",
       "         [0.        ],\n",
       "         ...,\n",
       "         [0.        ],\n",
       "         [0.        ],\n",
       "         [0.        ]],\n",
       "\n",
       "        [[0.        ],\n",
       "         [0.        ],\n",
       "         [0.        ],\n",
       "         ...,\n",
       "         [0.        ],\n",
       "         [0.        ],\n",
       "         [0.        ]]],\n",
       "\n",
       "\n",
       "       [[[0.        ],\n",
       "         [0.        ],\n",
       "         [0.        ],\n",
       "         ...,\n",
       "         [0.        ],\n",
       "         [0.        ],\n",
       "         [0.        ]],\n",
       "\n",
       "        [[0.        ],\n",
       "         [0.        ],\n",
       "         [0.        ],\n",
       "         ...,\n",
       "         [0.        ],\n",
       "         [0.        ],\n",
       "         [0.        ]],\n",
       "\n",
       "        [[0.        ],\n",
       "         [0.        ],\n",
       "         [0.        ],\n",
       "         ...,\n",
       "         [0.        ],\n",
       "         [0.        ],\n",
       "         [0.        ]],\n",
       "\n",
       "        ...,\n",
       "\n",
       "        [[0.        ],\n",
       "         [0.        ],\n",
       "         [0.        ],\n",
       "         ...,\n",
       "         [0.        ],\n",
       "         [0.        ],\n",
       "         [0.        ]],\n",
       "\n",
       "        [[0.        ],\n",
       "         [0.        ],\n",
       "         [0.        ],\n",
       "         ...,\n",
       "         [0.        ],\n",
       "         [0.        ],\n",
       "         [0.        ]],\n",
       "\n",
       "        [[0.        ],\n",
       "         [0.        ],\n",
       "         [0.        ],\n",
       "         ...,\n",
       "         [0.        ],\n",
       "         [0.        ],\n",
       "         [0.        ]]]], dtype=float32)"
      ]
     },
     "execution_count": 44,
     "metadata": {},
     "output_type": "execute_result"
    }
   ],
   "source": [
    "x_train=x_train.reshape(x_train.shape[0],*(28,28,1))\n",
    "x_train"
   ]
  },
  {
   "cell_type": "code",
   "execution_count": 48,
   "id": "2cd0ffc4",
   "metadata": {},
   "outputs": [
    {
     "data": {
      "text/plain": [
       "array([[[[0.        ],\n",
       "         [0.        ],\n",
       "         [0.        ],\n",
       "         ...,\n",
       "         [0.        ],\n",
       "         [0.        ],\n",
       "         [0.        ]],\n",
       "\n",
       "        [[0.        ],\n",
       "         [0.        ],\n",
       "         [0.01568628],\n",
       "         ...,\n",
       "         [0.        ],\n",
       "         [0.        ],\n",
       "         [0.        ]],\n",
       "\n",
       "        [[0.        ],\n",
       "         [0.        ],\n",
       "         [0.00392157],\n",
       "         ...,\n",
       "         [0.        ],\n",
       "         [0.        ],\n",
       "         [0.        ]],\n",
       "\n",
       "        ...,\n",
       "\n",
       "        [[0.        ],\n",
       "         [0.        ],\n",
       "         [0.        ],\n",
       "         ...,\n",
       "         [0.        ],\n",
       "         [0.        ],\n",
       "         [0.        ]],\n",
       "\n",
       "        [[0.        ],\n",
       "         [0.        ],\n",
       "         [0.        ],\n",
       "         ...,\n",
       "         [0.        ],\n",
       "         [0.        ],\n",
       "         [0.        ]],\n",
       "\n",
       "        [[0.        ],\n",
       "         [0.        ],\n",
       "         [0.        ],\n",
       "         ...,\n",
       "         [0.        ],\n",
       "         [0.        ],\n",
       "         [0.        ]]],\n",
       "\n",
       "\n",
       "       [[[0.        ],\n",
       "         [0.        ],\n",
       "         [0.        ],\n",
       "         ...,\n",
       "         [0.        ],\n",
       "         [0.        ],\n",
       "         [0.        ]],\n",
       "\n",
       "        [[0.        ],\n",
       "         [0.        ],\n",
       "         [0.        ],\n",
       "         ...,\n",
       "         [0.        ],\n",
       "         [0.        ],\n",
       "         [0.        ]],\n",
       "\n",
       "        [[0.        ],\n",
       "         [0.        ],\n",
       "         [0.        ],\n",
       "         ...,\n",
       "         [0.        ],\n",
       "         [0.        ],\n",
       "         [0.        ]],\n",
       "\n",
       "        ...,\n",
       "\n",
       "        [[0.        ],\n",
       "         [0.        ],\n",
       "         [0.        ],\n",
       "         ...,\n",
       "         [0.        ],\n",
       "         [0.        ],\n",
       "         [0.        ]],\n",
       "\n",
       "        [[0.        ],\n",
       "         [0.        ],\n",
       "         [0.        ],\n",
       "         ...,\n",
       "         [0.        ],\n",
       "         [0.        ],\n",
       "         [0.        ]],\n",
       "\n",
       "        [[0.        ],\n",
       "         [0.        ],\n",
       "         [0.        ],\n",
       "         ...,\n",
       "         [0.        ],\n",
       "         [0.        ],\n",
       "         [0.        ]]],\n",
       "\n",
       "\n",
       "       [[[0.        ],\n",
       "         [0.        ],\n",
       "         [0.        ],\n",
       "         ...,\n",
       "         [0.        ],\n",
       "         [0.        ],\n",
       "         [0.        ]],\n",
       "\n",
       "        [[0.        ],\n",
       "         [0.        ],\n",
       "         [0.        ],\n",
       "         ...,\n",
       "         [0.        ],\n",
       "         [0.        ],\n",
       "         [0.        ]],\n",
       "\n",
       "        [[0.        ],\n",
       "         [0.        ],\n",
       "         [0.        ],\n",
       "         ...,\n",
       "         [0.        ],\n",
       "         [0.        ],\n",
       "         [0.        ]],\n",
       "\n",
       "        ...,\n",
       "\n",
       "        [[0.        ],\n",
       "         [0.        ],\n",
       "         [0.        ],\n",
       "         ...,\n",
       "         [0.        ],\n",
       "         [0.        ],\n",
       "         [0.        ]],\n",
       "\n",
       "        [[0.        ],\n",
       "         [0.        ],\n",
       "         [0.        ],\n",
       "         ...,\n",
       "         [0.        ],\n",
       "         [0.        ],\n",
       "         [0.        ]],\n",
       "\n",
       "        [[0.        ],\n",
       "         [0.        ],\n",
       "         [0.        ],\n",
       "         ...,\n",
       "         [0.        ],\n",
       "         [0.        ],\n",
       "         [0.        ]]],\n",
       "\n",
       "\n",
       "       ...,\n",
       "\n",
       "\n",
       "       [[[0.        ],\n",
       "         [0.        ],\n",
       "         [0.        ],\n",
       "         ...,\n",
       "         [0.        ],\n",
       "         [0.        ],\n",
       "         [0.        ]],\n",
       "\n",
       "        [[0.        ],\n",
       "         [0.        ],\n",
       "         [0.        ],\n",
       "         ...,\n",
       "         [0.        ],\n",
       "         [0.        ],\n",
       "         [0.        ]],\n",
       "\n",
       "        [[0.        ],\n",
       "         [0.        ],\n",
       "         [0.        ],\n",
       "         ...,\n",
       "         [0.        ],\n",
       "         [0.        ],\n",
       "         [0.        ]],\n",
       "\n",
       "        ...,\n",
       "\n",
       "        [[0.        ],\n",
       "         [0.        ],\n",
       "         [0.01176471],\n",
       "         ...,\n",
       "         [0.        ],\n",
       "         [0.        ],\n",
       "         [0.        ]],\n",
       "\n",
       "        [[0.        ],\n",
       "         [0.        ],\n",
       "         [0.00784314],\n",
       "         ...,\n",
       "         [0.        ],\n",
       "         [0.        ],\n",
       "         [0.        ]],\n",
       "\n",
       "        [[0.        ],\n",
       "         [0.        ],\n",
       "         [0.        ],\n",
       "         ...,\n",
       "         [0.        ],\n",
       "         [0.00392157],\n",
       "         [0.        ]]],\n",
       "\n",
       "\n",
       "       [[[0.        ],\n",
       "         [0.00392157],\n",
       "         [0.01176471],\n",
       "         ...,\n",
       "         [0.        ],\n",
       "         [0.00784314],\n",
       "         [0.        ]],\n",
       "\n",
       "        [[0.        ],\n",
       "         [0.        ],\n",
       "         [0.        ],\n",
       "         ...,\n",
       "         [0.        ],\n",
       "         [0.        ],\n",
       "         [0.        ]],\n",
       "\n",
       "        [[0.        ],\n",
       "         [0.        ],\n",
       "         [0.45490196],\n",
       "         ...,\n",
       "         [0.78431374],\n",
       "         [0.11372549],\n",
       "         [0.        ]],\n",
       "\n",
       "        ...,\n",
       "\n",
       "        [[0.        ],\n",
       "         [0.        ],\n",
       "         [0.01568628],\n",
       "         ...,\n",
       "         [0.        ],\n",
       "         [0.01568628],\n",
       "         [0.        ]],\n",
       "\n",
       "        [[0.        ],\n",
       "         [0.        ],\n",
       "         [0.        ],\n",
       "         ...,\n",
       "         [0.00784314],\n",
       "         [0.        ],\n",
       "         [0.        ]],\n",
       "\n",
       "        [[0.        ],\n",
       "         [0.        ],\n",
       "         [0.        ],\n",
       "         ...,\n",
       "         [0.        ],\n",
       "         [0.        ],\n",
       "         [0.        ]]],\n",
       "\n",
       "\n",
       "       [[[0.        ],\n",
       "         [0.        ],\n",
       "         [0.        ],\n",
       "         ...,\n",
       "         [0.        ],\n",
       "         [0.        ],\n",
       "         [0.        ]],\n",
       "\n",
       "        [[0.        ],\n",
       "         [0.        ],\n",
       "         [0.        ],\n",
       "         ...,\n",
       "         [0.        ],\n",
       "         [0.        ],\n",
       "         [0.        ]],\n",
       "\n",
       "        [[0.        ],\n",
       "         [0.        ],\n",
       "         [0.        ],\n",
       "         ...,\n",
       "         [0.        ],\n",
       "         [0.        ],\n",
       "         [0.        ]],\n",
       "\n",
       "        ...,\n",
       "\n",
       "        [[0.        ],\n",
       "         [0.        ],\n",
       "         [0.        ],\n",
       "         ...,\n",
       "         [0.        ],\n",
       "         [0.        ],\n",
       "         [0.        ]],\n",
       "\n",
       "        [[0.        ],\n",
       "         [0.        ],\n",
       "         [0.        ],\n",
       "         ...,\n",
       "         [0.        ],\n",
       "         [0.        ],\n",
       "         [0.        ]],\n",
       "\n",
       "        [[0.        ],\n",
       "         [0.        ],\n",
       "         [0.        ],\n",
       "         ...,\n",
       "         [0.        ],\n",
       "         [0.        ],\n",
       "         [0.        ]]]], dtype=float32)"
      ]
     },
     "execution_count": 48,
     "metadata": {},
     "output_type": "execute_result"
    }
   ],
   "source": [
    "x_test=x_test.reshape(x_test.shape[0],*(28,28,1))\n",
    "x_test"
   ]
  },
  {
   "cell_type": "code",
   "execution_count": 50,
   "id": "5d254b6c",
   "metadata": {},
   "outputs": [
    {
     "data": {
      "text/plain": [
       "array([[[[0.],\n",
       "         [0.],\n",
       "         [0.],\n",
       "         ...,\n",
       "         [0.],\n",
       "         [0.],\n",
       "         [0.]],\n",
       "\n",
       "        [[0.],\n",
       "         [0.],\n",
       "         [0.],\n",
       "         ...,\n",
       "         [0.],\n",
       "         [0.],\n",
       "         [0.]],\n",
       "\n",
       "        [[0.],\n",
       "         [0.],\n",
       "         [0.],\n",
       "         ...,\n",
       "         [0.],\n",
       "         [0.],\n",
       "         [0.]],\n",
       "\n",
       "        ...,\n",
       "\n",
       "        [[0.],\n",
       "         [0.],\n",
       "         [0.],\n",
       "         ...,\n",
       "         [0.],\n",
       "         [0.],\n",
       "         [0.]],\n",
       "\n",
       "        [[0.],\n",
       "         [0.],\n",
       "         [0.],\n",
       "         ...,\n",
       "         [0.],\n",
       "         [0.],\n",
       "         [0.]],\n",
       "\n",
       "        [[0.],\n",
       "         [0.],\n",
       "         [0.],\n",
       "         ...,\n",
       "         [0.],\n",
       "         [0.],\n",
       "         [0.]]],\n",
       "\n",
       "\n",
       "       [[[0.],\n",
       "         [0.],\n",
       "         [0.],\n",
       "         ...,\n",
       "         [0.],\n",
       "         [0.],\n",
       "         [0.]],\n",
       "\n",
       "        [[0.],\n",
       "         [0.],\n",
       "         [0.],\n",
       "         ...,\n",
       "         [0.],\n",
       "         [0.],\n",
       "         [0.]],\n",
       "\n",
       "        [[0.],\n",
       "         [0.],\n",
       "         [0.],\n",
       "         ...,\n",
       "         [0.],\n",
       "         [0.],\n",
       "         [0.]],\n",
       "\n",
       "        ...,\n",
       "\n",
       "        [[0.],\n",
       "         [0.],\n",
       "         [0.],\n",
       "         ...,\n",
       "         [0.],\n",
       "         [0.],\n",
       "         [0.]],\n",
       "\n",
       "        [[0.],\n",
       "         [0.],\n",
       "         [0.],\n",
       "         ...,\n",
       "         [0.],\n",
       "         [0.],\n",
       "         [0.]],\n",
       "\n",
       "        [[0.],\n",
       "         [0.],\n",
       "         [0.],\n",
       "         ...,\n",
       "         [0.],\n",
       "         [0.],\n",
       "         [0.]]],\n",
       "\n",
       "\n",
       "       [[[0.],\n",
       "         [0.],\n",
       "         [0.],\n",
       "         ...,\n",
       "         [0.],\n",
       "         [0.],\n",
       "         [0.]],\n",
       "\n",
       "        [[0.],\n",
       "         [0.],\n",
       "         [0.],\n",
       "         ...,\n",
       "         [0.],\n",
       "         [0.],\n",
       "         [0.]],\n",
       "\n",
       "        [[0.],\n",
       "         [0.],\n",
       "         [0.],\n",
       "         ...,\n",
       "         [0.],\n",
       "         [0.],\n",
       "         [0.]],\n",
       "\n",
       "        ...,\n",
       "\n",
       "        [[0.],\n",
       "         [0.],\n",
       "         [0.],\n",
       "         ...,\n",
       "         [0.],\n",
       "         [0.],\n",
       "         [0.]],\n",
       "\n",
       "        [[0.],\n",
       "         [0.],\n",
       "         [0.],\n",
       "         ...,\n",
       "         [0.],\n",
       "         [0.],\n",
       "         [0.]],\n",
       "\n",
       "        [[0.],\n",
       "         [0.],\n",
       "         [0.],\n",
       "         ...,\n",
       "         [0.],\n",
       "         [0.],\n",
       "         [0.]]],\n",
       "\n",
       "\n",
       "       ...,\n",
       "\n",
       "\n",
       "       [[[0.],\n",
       "         [0.],\n",
       "         [0.],\n",
       "         ...,\n",
       "         [0.],\n",
       "         [0.],\n",
       "         [0.]],\n",
       "\n",
       "        [[0.],\n",
       "         [0.],\n",
       "         [0.],\n",
       "         ...,\n",
       "         [0.],\n",
       "         [0.],\n",
       "         [0.]],\n",
       "\n",
       "        [[0.],\n",
       "         [0.],\n",
       "         [0.],\n",
       "         ...,\n",
       "         [0.],\n",
       "         [0.],\n",
       "         [0.]],\n",
       "\n",
       "        ...,\n",
       "\n",
       "        [[0.],\n",
       "         [0.],\n",
       "         [0.],\n",
       "         ...,\n",
       "         [0.],\n",
       "         [0.],\n",
       "         [0.]],\n",
       "\n",
       "        [[0.],\n",
       "         [0.],\n",
       "         [0.],\n",
       "         ...,\n",
       "         [0.],\n",
       "         [0.],\n",
       "         [0.]],\n",
       "\n",
       "        [[0.],\n",
       "         [0.],\n",
       "         [0.],\n",
       "         ...,\n",
       "         [0.],\n",
       "         [0.],\n",
       "         [0.]]],\n",
       "\n",
       "\n",
       "       [[[0.],\n",
       "         [0.],\n",
       "         [0.],\n",
       "         ...,\n",
       "         [0.],\n",
       "         [0.],\n",
       "         [0.]],\n",
       "\n",
       "        [[0.],\n",
       "         [0.],\n",
       "         [0.],\n",
       "         ...,\n",
       "         [0.],\n",
       "         [0.],\n",
       "         [0.]],\n",
       "\n",
       "        [[0.],\n",
       "         [0.],\n",
       "         [0.],\n",
       "         ...,\n",
       "         [0.],\n",
       "         [0.],\n",
       "         [0.]],\n",
       "\n",
       "        ...,\n",
       "\n",
       "        [[0.],\n",
       "         [0.],\n",
       "         [0.],\n",
       "         ...,\n",
       "         [0.],\n",
       "         [0.],\n",
       "         [0.]],\n",
       "\n",
       "        [[0.],\n",
       "         [0.],\n",
       "         [0.],\n",
       "         ...,\n",
       "         [0.],\n",
       "         [0.],\n",
       "         [0.]],\n",
       "\n",
       "        [[0.],\n",
       "         [0.],\n",
       "         [0.],\n",
       "         ...,\n",
       "         [0.],\n",
       "         [0.],\n",
       "         [0.]]],\n",
       "\n",
       "\n",
       "       [[[0.],\n",
       "         [0.],\n",
       "         [0.],\n",
       "         ...,\n",
       "         [0.],\n",
       "         [0.],\n",
       "         [0.]],\n",
       "\n",
       "        [[0.],\n",
       "         [0.],\n",
       "         [0.],\n",
       "         ...,\n",
       "         [0.],\n",
       "         [0.],\n",
       "         [0.]],\n",
       "\n",
       "        [[0.],\n",
       "         [0.],\n",
       "         [0.],\n",
       "         ...,\n",
       "         [0.],\n",
       "         [0.],\n",
       "         [0.]],\n",
       "\n",
       "        ...,\n",
       "\n",
       "        [[0.],\n",
       "         [0.],\n",
       "         [0.],\n",
       "         ...,\n",
       "         [0.],\n",
       "         [0.],\n",
       "         [0.]],\n",
       "\n",
       "        [[0.],\n",
       "         [0.],\n",
       "         [0.],\n",
       "         ...,\n",
       "         [0.],\n",
       "         [0.],\n",
       "         [0.]],\n",
       "\n",
       "        [[0.],\n",
       "         [0.],\n",
       "         [0.],\n",
       "         ...,\n",
       "         [0.],\n",
       "         [0.],\n",
       "         [0.]]]], dtype=float32)"
      ]
     },
     "execution_count": 50,
     "metadata": {},
     "output_type": "execute_result"
    }
   ],
   "source": [
    "x_val=x_val.reshape(x_val.shape[0],*(28,28,1))\n",
    "x_val"
   ]
  },
  {
   "cell_type": "code",
   "execution_count": 51,
   "id": "5f306dc3",
   "metadata": {},
   "outputs": [
    {
     "data": {
      "text/plain": [
       "(48000, 28, 28, 1)"
      ]
     },
     "execution_count": 51,
     "metadata": {},
     "output_type": "execute_result"
    }
   ],
   "source": [
    "x_train.shape"
   ]
  },
  {
   "cell_type": "code",
   "execution_count": 52,
   "id": "27c3e050",
   "metadata": {},
   "outputs": [
    {
     "data": {
      "text/plain": [
       "(12000, 28, 28, 1)"
      ]
     },
     "execution_count": 52,
     "metadata": {},
     "output_type": "execute_result"
    }
   ],
   "source": [
    "x_val.shape"
   ]
  },
  {
   "cell_type": "code",
   "execution_count": 53,
   "id": "b0a140eb",
   "metadata": {},
   "outputs": [
    {
     "data": {
      "text/plain": [
       "(10000, 28, 28, 1)"
      ]
     },
     "execution_count": 53,
     "metadata": {},
     "output_type": "execute_result"
    }
   ],
   "source": [
    "x_test.shape"
   ]
  },
  {
   "cell_type": "code",
   "execution_count": null,
   "id": "9dab1952",
   "metadata": {},
   "outputs": [],
   "source": [
    "#Building keras model"
   ]
  },
  {
   "cell_type": "code",
   "execution_count": 56,
   "id": "a76a34b9",
   "metadata": {},
   "outputs": [],
   "source": [
    "import keras"
   ]
  },
  {
   "cell_type": "code",
   "execution_count": 59,
   "id": "9c84b8be",
   "metadata": {},
   "outputs": [],
   "source": [
    "from keras.models import Sequential\n",
    "from keras.layers import Conv2D,MaxPooling2D,Flatten,Dropout,Dense\n",
    "from keras.optimizers import Adam\n",
    "from keras.callbacks import TensorBoard"
   ]
  },
  {
   "cell_type": "code",
   "execution_count": 60,
   "id": "a9a8119e",
   "metadata": {},
   "outputs": [],
   "source": [
    "cnn_model=Sequential()"
   ]
  },
  {
   "cell_type": "code",
   "execution_count": 61,
   "id": "e5635c2b",
   "metadata": {},
   "outputs": [],
   "source": [
    "cnn_model.add(Conv2D(32,3,3,input_shape=(28,28,1),activation='relu'))"
   ]
  },
  {
   "cell_type": "code",
   "execution_count": 62,
   "id": "0198493f",
   "metadata": {},
   "outputs": [],
   "source": [
    "cnn_model.add(MaxPooling2D(pool_size=(2,2)))"
   ]
  },
  {
   "cell_type": "code",
   "execution_count": 63,
   "id": "554093de",
   "metadata": {},
   "outputs": [],
   "source": [
    "cnn_model.add(Flatten())"
   ]
  },
  {
   "cell_type": "code",
   "execution_count": 68,
   "id": "d10c88f0",
   "metadata": {},
   "outputs": [],
   "source": [
    "cnn_model.add(Dense(32,activation='relu'))"
   ]
  },
  {
   "cell_type": "code",
   "execution_count": 90,
   "id": "e48fdc9b",
   "metadata": {},
   "outputs": [],
   "source": [
    "cnn_model.add(Dense(10,activation='softmax'))"
   ]
  },
  {
   "cell_type": "code",
   "execution_count": 91,
   "id": "67a7870c",
   "metadata": {},
   "outputs": [],
   "source": [
    "cnn_model.compile(loss='sparse_categorical_crossentropy',optimizer='adam',metrics='accuracy')"
   ]
  },
  {
   "cell_type": "code",
   "execution_count": 92,
   "id": "f865f975",
   "metadata": {},
   "outputs": [
    {
     "name": "stdout",
     "output_type": "stream",
     "text": [
      "Epoch 1/30\n",
      "94/94 [==============================] - 2s 16ms/step - loss: 1.9996 - accuracy: 0.4107 - val_loss: 1.7832 - val_accuracy: 0.5553\n",
      "Epoch 2/30\n",
      "94/94 [==============================] - 2s 17ms/step - loss: 1.6421 - accuracy: 0.6714 - val_loss: 1.5207 - val_accuracy: 0.7506\n",
      "Epoch 3/30\n",
      "94/94 [==============================] - 2s 17ms/step - loss: 1.4073 - accuracy: 0.7704 - val_loss: 1.3174 - val_accuracy: 0.7849\n",
      "Epoch 4/30\n",
      "94/94 [==============================] - 2s 17ms/step - loss: 1.2318 - accuracy: 0.7968 - val_loss: 1.1648 - val_accuracy: 0.7951\n",
      "Epoch 5/30\n",
      "94/94 [==============================] - 2s 17ms/step - loss: 1.0896 - accuracy: 0.8084 - val_loss: 1.0373 - val_accuracy: 0.8090\n",
      "Epoch 6/30\n",
      "94/94 [==============================] - 2s 16ms/step - loss: 0.9731 - accuracy: 0.8156 - val_loss: 0.9294 - val_accuracy: 0.8147\n",
      "Epoch 7/30\n",
      "94/94 [==============================] - 2s 17ms/step - loss: 0.8770 - accuracy: 0.8226 - val_loss: 0.8440 - val_accuracy: 0.8198\n",
      "Epoch 8/30\n",
      "94/94 [==============================] - 1s 16ms/step - loss: 0.8020 - accuracy: 0.8329 - val_loss: 0.7793 - val_accuracy: 0.8275\n",
      "Epoch 9/30\n",
      "94/94 [==============================] - 2s 16ms/step - loss: 0.7397 - accuracy: 0.8393 - val_loss: 0.7336 - val_accuracy: 0.8362\n",
      "Epoch 10/30\n",
      "94/94 [==============================] - 2s 16ms/step - loss: 0.6929 - accuracy: 0.8443 - val_loss: 0.6860 - val_accuracy: 0.8408\n",
      "Epoch 11/30\n",
      "94/94 [==============================] - 1s 15ms/step - loss: 0.6516 - accuracy: 0.8466 - val_loss: 0.6544 - val_accuracy: 0.8420\n",
      "Epoch 12/30\n",
      "94/94 [==============================] - 2s 17ms/step - loss: 0.6084 - accuracy: 0.8498 - val_loss: 0.6013 - val_accuracy: 0.8426\n",
      "Epoch 13/30\n",
      "94/94 [==============================] - 2s 17ms/step - loss: 0.5665 - accuracy: 0.8540 - val_loss: 0.5738 - val_accuracy: 0.8443\n",
      "Epoch 14/30\n",
      "94/94 [==============================] - 2s 17ms/step - loss: 0.5350 - accuracy: 0.8553 - val_loss: 0.5537 - val_accuracy: 0.8429\n",
      "Epoch 15/30\n",
      "94/94 [==============================] - 2s 17ms/step - loss: 0.5104 - accuracy: 0.8577 - val_loss: 0.5255 - val_accuracy: 0.8475\n",
      "Epoch 16/30\n",
      "94/94 [==============================] - 2s 17ms/step - loss: 0.4886 - accuracy: 0.8599 - val_loss: 0.5092 - val_accuracy: 0.8495\n",
      "Epoch 17/30\n",
      "94/94 [==============================] - 2s 16ms/step - loss: 0.4704 - accuracy: 0.8629 - val_loss: 0.4932 - val_accuracy: 0.8522\n",
      "Epoch 18/30\n",
      "94/94 [==============================] - 2s 17ms/step - loss: 0.4567 - accuracy: 0.8639 - val_loss: 0.4844 - val_accuracy: 0.8522\n",
      "Epoch 19/30\n",
      "94/94 [==============================] - 2s 17ms/step - loss: 0.4418 - accuracy: 0.8681 - val_loss: 0.4679 - val_accuracy: 0.8570\n",
      "Epoch 20/30\n",
      "94/94 [==============================] - 2s 17ms/step - loss: 0.4305 - accuracy: 0.8687 - val_loss: 0.4584 - val_accuracy: 0.8575\n",
      "Epoch 21/30\n",
      "94/94 [==============================] - 2s 17ms/step - loss: 0.4206 - accuracy: 0.8710 - val_loss: 0.4615 - val_accuracy: 0.8497\n",
      "Epoch 22/30\n",
      "94/94 [==============================] - 2s 17ms/step - loss: 0.4110 - accuracy: 0.8720 - val_loss: 0.4463 - val_accuracy: 0.8582\n",
      "Epoch 23/30\n",
      "94/94 [==============================] - 2s 17ms/step - loss: 0.4038 - accuracy: 0.8731 - val_loss: 0.4385 - val_accuracy: 0.8591\n",
      "Epoch 24/30\n",
      "94/94 [==============================] - 2s 17ms/step - loss: 0.3962 - accuracy: 0.8752 - val_loss: 0.4346 - val_accuracy: 0.8598\n",
      "Epoch 25/30\n",
      "94/94 [==============================] - 2s 17ms/step - loss: 0.3915 - accuracy: 0.8754 - val_loss: 0.4305 - val_accuracy: 0.8606\n",
      "Epoch 26/30\n",
      "94/94 [==============================] - 2s 16ms/step - loss: 0.3842 - accuracy: 0.8775 - val_loss: 0.4300 - val_accuracy: 0.8593\n",
      "Epoch 27/30\n",
      "94/94 [==============================] - 2s 17ms/step - loss: 0.3796 - accuracy: 0.8770 - val_loss: 0.4199 - val_accuracy: 0.8620\n",
      "Epoch 28/30\n",
      "94/94 [==============================] - 2s 17ms/step - loss: 0.3726 - accuracy: 0.8795 - val_loss: 0.4229 - val_accuracy: 0.8607\n",
      "Epoch 29/30\n",
      "94/94 [==============================] - 2s 17ms/step - loss: 0.3703 - accuracy: 0.8788 - val_loss: 0.4243 - val_accuracy: 0.8537\n",
      "Epoch 30/30\n",
      "94/94 [==============================] - 2s 16ms/step - loss: 0.3636 - accuracy: 0.8810 - val_loss: 0.4111 - val_accuracy: 0.8630\n"
     ]
    },
    {
     "data": {
      "text/plain": [
       "<keras.callbacks.History at 0x213e05a4a00>"
      ]
     },
     "execution_count": 92,
     "metadata": {},
     "output_type": "execute_result"
    }
   ],
   "source": [
    "cnn_model.fit(x_train,y_train,batch_size=512,epochs=30,verbose=1,validation_data=(x_val,y_val))"
   ]
  },
  {
   "cell_type": "code",
   "execution_count": 93,
   "id": "f510c0f0",
   "metadata": {},
   "outputs": [],
   "source": [
    "#evaluating the model"
   ]
  },
  {
   "cell_type": "code",
   "execution_count": 94,
   "id": "1d7fc837",
   "metadata": {},
   "outputs": [
    {
     "name": "stdout",
     "output_type": "stream",
     "text": [
      "313/313 [==============================] - 1s 3ms/step - loss: 0.3902 - accuracy: 0.8713\n"
     ]
    },
    {
     "data": {
      "text/plain": [
       "[0.39017215371131897, 0.8712999820709229]"
      ]
     },
     "execution_count": 94,
     "metadata": {},
     "output_type": "execute_result"
    }
   ],
   "source": [
    "cnn_model.evaluate(x_test,y_test)"
   ]
  },
  {
   "cell_type": "code",
   "execution_count": 106,
   "id": "962238c2",
   "metadata": {},
   "outputs": [
    {
     "name": "stdout",
     "output_type": "stream",
     "text": [
      "313/313 [==============================] - 1s 2ms/step\n"
     ]
    },
    {
     "data": {
      "text/plain": [
       "array([[8.7902725e-01, 5.1180697e-03, 3.0680509e-02, ..., 1.6984923e-03,\n",
       "        3.9735441e-03, 1.8665765e-05],\n",
       "       [5.8722603e-03, 9.7834903e-01, 9.5015112e-04, ..., 1.5219622e-03,\n",
       "        7.3717994e-05, 7.6475809e-04],\n",
       "       [1.4129972e-01, 3.2768406e-03, 4.1788623e-01, ..., 9.2985143e-04,\n",
       "        2.0536728e-02, 1.9821322e-04],\n",
       "       ...,\n",
       "       [1.6505606e-03, 1.3656837e-05, 3.1107520e-03, ..., 3.9467239e-03,\n",
       "        9.7097880e-01, 4.1021239e-03],\n",
       "       [4.7618847e-02, 2.6019319e-04, 3.4204542e-03, ..., 1.6404860e-02,\n",
       "        8.6756760e-01, 3.4709221e-03],\n",
       "       [1.7904809e-02, 6.9718975e-01, 2.7138643e-02, ..., 1.2493029e-02,\n",
       "        1.2588588e-02, 3.6913488e-02]], dtype=float32)"
      ]
     },
     "execution_count": 106,
     "metadata": {},
     "output_type": "execute_result"
    }
   ],
   "source": [
    "predicted_prob=cnn_model.predict(x_test)\n",
    "predicted_prob"
   ]
  },
  {
   "cell_type": "code",
   "execution_count": 107,
   "id": "ce26a9e9",
   "metadata": {},
   "outputs": [
    {
     "data": {
      "text/plain": [
       "array([[8.7902725e-01, 5.1180697e-03, 3.0680509e-02, ..., 1.6984923e-03,\n",
       "        3.9735441e-03, 1.8665765e-05],\n",
       "       [5.8722603e-03, 9.7834903e-01, 9.5015112e-04, ..., 1.5219622e-03,\n",
       "        7.3717994e-05, 7.6475809e-04],\n",
       "       [1.4129972e-01, 3.2768406e-03, 4.1788623e-01, ..., 9.2985143e-04,\n",
       "        2.0536728e-02, 1.9821322e-04],\n",
       "       ...,\n",
       "       [1.6505606e-03, 1.3656837e-05, 3.1107520e-03, ..., 3.9467239e-03,\n",
       "        9.7097880e-01, 4.1021239e-03],\n",
       "       [4.7618847e-02, 2.6019319e-04, 3.4204542e-03, ..., 1.6404860e-02,\n",
       "        8.6756760e-01, 3.4709221e-03],\n",
       "       [1.7904809e-02, 6.9718975e-01, 2.7138643e-02, ..., 1.2493029e-02,\n",
       "        1.2588588e-02, 3.6913488e-02]], dtype=float32)"
      ]
     },
     "execution_count": 107,
     "metadata": {},
     "output_type": "execute_result"
    }
   ],
   "source": [
    "predicted_prob"
   ]
  },
  {
   "cell_type": "code",
   "execution_count": 108,
   "id": "e8304566",
   "metadata": {},
   "outputs": [
    {
     "data": {
      "text/plain": [
       "array([0, 1, 2, ..., 8, 8, 1], dtype=int64)"
      ]
     },
     "execution_count": 108,
     "metadata": {},
     "output_type": "execute_result"
    }
   ],
   "source": [
    "predicted_class=np.argmax(predicted_prob,axis=1)\n",
    "predicted_class"
   ]
  },
  {
   "cell_type": "code",
   "execution_count": 109,
   "id": "6f68b28f",
   "metadata": {},
   "outputs": [],
   "source": [
    "from sklearn.metrics import confusion_matrix"
   ]
  },
  {
   "cell_type": "code",
   "execution_count": 111,
   "id": "37c1f152",
   "metadata": {},
   "outputs": [
    {
     "data": {
      "text/plain": [
       "array([[818,   4,  21,  35,   1,   0, 109,   0,  12,   0],\n",
       "       [  1, 976,   2,  16,   1,   1,   2,   0,   1,   0],\n",
       "       [ 16,   4, 801,  12, 102,   0,  61,   0,   4,   0],\n",
       "       [ 19,  13,  11, 901,  37,   0,  19,   0,   0,   0],\n",
       "       [  0,   1,  62,  28, 836,   0,  69,   0,   3,   1],\n",
       "       [  0,   1,   0,   1,   0, 933,   1,  44,   4,  16],\n",
       "       [151,   3,  97,  30, 131,   0, 569,   0,  19,   0],\n",
       "       [  0,   0,   0,   0,   0,  14,   0, 935,   0,  51],\n",
       "       [  2,   2,   2,   0,   2,   3,   7,   1, 977,   4],\n",
       "       [  0,   0,   0,   0,   0,   3,   0,  29,   1, 967]], dtype=int64)"
      ]
     },
     "execution_count": 111,
     "metadata": {},
     "output_type": "execute_result"
    }
   ],
   "source": [
    "cm=confusion_matrix(y_test,predicted_class)\n",
    "cm"
   ]
  },
  {
   "cell_type": "code",
   "execution_count": 113,
   "id": "b58579bc",
   "metadata": {},
   "outputs": [
    {
     "data": {
      "image/png": "[encoded data removed]",
      "text/plain": [
       "<Figure size 640x480 with 2 Axes>"
      ]
     },
     "metadata": {},
     "output_type": "display_data"
    }
   ],
   "source": [
    "sns.heatmap(cm,annot=True)\n",
    "plt.show()"
   ]
  },
  {
   "cell_type": "code",
   "execution_count": null,
   "id": "e5d31774",
   "metadata": {},
   "outputs": [],
   "source": []
  }
 ],
 "metadata": {
  "kernelspec": {
   "display_name": "Python 3 (ipykernel)",
   "language": "python",
   "name": "python3"
  },
  "language_info": {
   "codemirror_mode": {
    "name": "ipython",
    "version": 3
   },
   "file_extension": ".py",
   "mimetype": "text/x-python",
   "name": "python",
   "nbconvert_exporter": "python",
   "pygments_lexer": "ipython3",
   "version": "3.9.13"
  }
 },
 "nbformat": 4,
 "nbformat_minor": 5
}
